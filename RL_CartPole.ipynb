{
  "nbformat": 4,
  "nbformat_minor": 0,
  "metadata": {
    "colab": {
      "name": "RL_CartPole.ipynb",
      "version": "0.3.2",
      "provenance": [],
      "collapsed_sections": [],
      "include_colab_link": true
    },
    "kernelspec": {
      "name": "python3",
      "display_name": "Python 3"
    }
  },
  "cells": [
    {
      "cell_type": "markdown",
      "metadata": {
        "id": "view-in-github",
        "colab_type": "text"
      },
      "source": [
        "<a href=\"https://colab.research.google.com/github/cing3000/Reinforcement-Learning-An-Introduction/blob/master/RL_CartPole.ipynb\" target=\"_parent\"><img src=\"https://colab.research.google.com/assets/colab-badge.svg\" alt=\"Open In Colab\"/></a>"
      ]
    },
    {
      "metadata": {
        "id": "AxBg7wT05RnR",
        "colab_type": "code",
        "colab": {}
      },
      "cell_type": "code",
      "source": [
        "import gym\n",
        "import numpy as np\n",
        "from IPython.display import display, HTML, Javascript\n",
        "import matplotlib.pyplot as plt\n",
        "from PIL import Image, ImageDraw\n",
        "import time, math\n",
        "from tqdm import tqdm\n",
        "\n",
        "import tensorflow as tf\n",
        "import tensorflow.contrib.slim as slim\n",
        "from tensorflow.contrib import layers\n",
        "\n",
        "%matplotlib inline\n",
        "\n",
        "#from pyvirtualdisplay import Display"
      ],
      "execution_count": 0,
      "outputs": []
    },
    {
      "metadata": {
        "id": "xMbtl668I4Jd",
        "colab_type": "code",
        "colab": {}
      },
      "cell_type": "code",
      "source": [
        "# display frames\n",
        "def display_frames(frames):\n",
        "    \n",
        "    import base64, uuid\n",
        "    from io import BytesIO\n",
        "    \n",
        "    obj_id = \"ani_\" + str(uuid.uuid4()).replace('-', '')\n",
        "    img_id = \"img_\" + str(uuid.uuid4()).replace('-', '')\n",
        "    slider_id = \"sli_\" + str(uuid.uuid4()).replace('-', '')\n",
        "    loop_id = \"loop_\" + str(uuid.uuid4()).replace('-', '')\n",
        "    javascript = \"<link rel=\\\"stylesheet\\\" href=\\\"https://maxcdn.bootstrapcdn.com/font-awesome/4.4.0/css/font-awesome.min.css\\\"><script language=\\\"javascript\\\">\"\n",
        "    javascript += \"function Animation(t,i,e,r,n){this.img_id=i,this.slider_id=e,this.loop_select_id=n,this.interval=r,this.current_frame=0,this.direction=0,this.timer=null,this.frames=new Array(t.length);\"\n",
        "    javascript += \"for(var s=0;s<t.length;s++)this.frames[s]=new Image,this.frames[s].src=t[s];document.getElementById(this.slider_id).max=this.frames.length-1,this.set_frame(this.current_frame)}Animation.\"\n",
        "    javascript += \"prototype.get_loop_state=function(){for(var t=document[this.loop_select_id].state,i=0;i<t.length;i++){var e=t[i];if(e.checked)return e.value}},Animation.prototype.set_frame=function(t)\"\n",
        "    javascript += \"{this.current_frame=t,document.getElementById(this.img_id).src=this.frames[this.current_frame].src,document.getElementById(this.slider_id).value=this.current_frame},Animation.prototype.\"\n",
        "    javascript += \"next_frame=function(){this.set_frame(Math.min(this.frames.length-1,this.current_frame+1))},Animation.prototype.previous_frame=function(){this.set_frame(Math.max(0,this.current_frame-1))},\"\n",
        "    javascript += \"Animation.prototype.first_frame=function(){this.set_frame(0)},Animation.prototype.last_frame=function(){this.set_frame(this.frames.length-1)},Animation.prototype.slower=function(){this.interval/=.7,0\"\n",
        "    javascript += \"<this.direction?this.play_animation():this.direction<0&&this.reverse_animation()},Animation.prototype.faster=function(){this.interval*=.7,0<this.direction?this.play_animation():this.direction<0&&this.\"\n",
        "    javascript += \"reverse_animation()},Animation.prototype.anim_step_forward=function(){if(this.current_frame+=1,this.current_frame<this.frames.length)this.set_frame(this.current_frame);else{var t=this.get_loop_state();\"\n",
        "    javascript += \"\\\"loop\\\"==t?this.first_frame():\\\"reflect\\\"==t?(this.last_frame(),this.reverse_animation()):(this.pause_animation(),this.last_frame())}},Animation.prototype.anim_step_reverse=function(){if(this.current_\"\n",
        "    javascript += \"frame-=1,0<=this.current_frame)this.set_frame(this.current_frame);else{var t=this.get_loop_state();\\\"loop\\\"==t?this.last_frame():\\\"reflect\\\"==t?(this.first_frame(),this.play_animation()):(this.pause_animation(),this.first_frame())}},Animation.prototype.pause_animation=function(){this.direction=0,this.timer&&(clearInterval(this.timer),this.timer=null)},Animation.prototype.play_animation=function(){this.pause_animation(),this.direction=1;var t=this;this.timer||(this.timer=setInterval(function(){t.anim_step_forward()},this.interval))},Animation.prototype.reverse_animation=function(){this.pause_animation(),this.direction=-1;var t=this;this.timer||(this.timer=setInterval(function(){t.anim_step_reverse()},this.interval))};</script>\"\n",
        "    \n",
        "    html = \"<div class=\\\"animation\\\" align=\\\"center\\\"><img id=\\\"\" + img_id + \"\\\"><br><input id=\\\"\" + slider_id + \"\\\" type=\\\"range\\\" style=\\\"width:350px\\\" name=\\\"points\\\" min=\\\"0\\\" max=\\\"1\\\" step=\\\"1\\\" value=\\\"0\\\" onchange=\\\"\" + obj_id + \".set_frame(parseInt(this.value));\\\"></input><br><button onclick=\\\"\" + obj_id + \".slower()\\\"><i class=\\\"fa fa-minus\\\"></i></button><button onclick=\\\"\" + obj_id + \".first_frame()\\\"><i class=\\\"fa fa-fast-backward\\\"></i></button><button onclick=\\\"\" + obj_id + \".previous_frame()\\\"><i class=\\\"fa fa-step-backward\\\"></i></button><button onclick=\\\"\" + obj_id + \".reverse_animation()\\\"><i class=\\\"fa fa-play fa-flip-horizontal\\\"></i></button><button onclick=\\\"\" + obj_id + \".pause_animation()\\\"><i class=\\\"fa fa-pause\\\"></i></button><button onclick=\\\"\" + obj_id + \".play_animation()\\\"><i class=\\\"fa fa-play\\\"></i></button><button onclick=\\\"\" + obj_id + \".next_frame()\\\"><i class=\\\"fa fa-step-forward\\\"></i></button><button onclick=\\\"\" + obj_id + \".last_frame()\\\"><i class=\\\"fa fa-fast-forward\\\"></i></button><button onclick=\\\"\" + obj_id + \".faster()\\\"><i class=\\\"fa fa-plus\\\"></i></button><form action=\\\"#n\\\" name=\\\"\" + loop_id + \"\\\" class=\\\"anim_control\\\"><input type=\\\"radio\\\" name=\\\"state\\\"  value=\\\"once\\\" > Once</input><input type=\\\"radio\\\" name=\\\"state\\\" value=\\\"loop\\\" checked> Loop</input><input type=\\\"radio\\\" name=\\\"state\\\" value=\\\"reflect\\\" > Reflect</input></form></div>\"\n",
        "    html += \"<script language=\\\"javascript\\\">(function(){var img_id = \\\"%s\\\";var slider_id=\\\"%s\\\";var loop_select_id=\\\"%s\\\";var frames = new Array(0);\" % (img_id, slider_id, loop_id)\n",
        "\n",
        "    for i, f in enumerate(frames):\n",
        "        frame = Image.fromarray(f)\n",
        "        buf = BytesIO()\n",
        "        frame.save(buf, format=\"PNG\")\n",
        "        imgstr = base64.b64encode(buf.getvalue()).decode('ascii')\n",
        "        html += \"frames[%d] = \\\"data:image/png;base64,%s\\\";\" % (i,imgstr)\n",
        "        \n",
        "    html += \"setTimeout(function() {%s = new Animation(frames, img_id, slider_id, 200.0, loop_select_id);}, 0);})()</script>\" % obj_id\n",
        "\n",
        "    display(HTML(javascript + html))"
      ],
      "execution_count": 0,
      "outputs": []
    },
    {
      "metadata": {
        "id": "i0uvKlaO5XL-",
        "colab_type": "code",
        "colab": {}
      },
      "cell_type": "code",
      "source": [
        "# environment\n",
        "class CartPole:\n",
        "    \n",
        "    def __init__(self):\n",
        "        self.env = gym.make('CartPole-v0')\n",
        "        self.action_space = self.env.action_space\n",
        "        self.reset()\n",
        "    \n",
        "    # reset environment to init state\n",
        "    def reset(self):\n",
        "        return self.env.reset()\n",
        "        \n",
        "    # visualize environment\n",
        "    def draw(self):\n",
        "        return self.env.render(mode='rgb_array')\n",
        "    \n",
        "    # step\n",
        "    def step(self, action):\n",
        "        return self.env.step(action)"
      ],
      "execution_count": 0,
      "outputs": []
    },
    {
      "metadata": {
        "id": "50kvm5t85VrH",
        "colab_type": "code",
        "colab": {}
      },
      "cell_type": "code",
      "source": [
        "# hyper-parameters\n",
        "episodes = 200\n",
        "batch_size = 4\n",
        "\n",
        "alpha = 0.01\n",
        "gamma = 0.99\n",
        "epsilon = 0.1\n",
        "\n",
        "s_size = 4\n",
        "a_size = 2\n",
        "alpha_w = 1e-2\n",
        "alpha_theta = 1e-2"
      ],
      "execution_count": 0,
      "outputs": []
    },
    {
      "metadata": {
        "id": "5TsJozc02EY2",
        "colab_type": "code",
        "outputId": "3bc70ee0-131c-4617-fe7b-75efcffadb9f",
        "colab": {
          "base_uri": "https://localhost:8080/",
          "height": 282
        }
      },
      "cell_type": "code",
      "source": [
        "# create virtual screen for gym rendering\n",
        "#vdisplay = Display(visible=0, size=(400, 300))\n",
        "#vdisplay.start()\n",
        "\n",
        "# create environment and neural network model\n",
        "cp = CartPole()\n",
        "\n",
        "tf.reset_default_graph()\n",
        "graph = tf.Graph()\n",
        "with graph.as_default():\n",
        "\n",
        "    in_state = tf.placeholder(shape=[None, s_size], dtype=tf.float32)\n",
        "    theta1 = slim.fully_connected(in_state, 8, biases_initializer=None, activation_fn=tf.nn.relu, scope=\"theta/l1\")\n",
        "    #theta2 = slim.fully_connected(theta1, 16, biases_initializer=None, activation_fn=tf.nn.relu, scope=\"theta/l2\")\n",
        "    out_action = slim.fully_connected(theta1, a_size, biases_initializer=None, activation_fn=tf.nn.softmax, scope=\"theta/out\")\n",
        "    \n",
        "    w1 = slim.fully_connected(in_state, 8, biases_initializer=None, activation_fn=tf.nn.relu, scope=\"w/l1\")\n",
        "    #w2 = slim.fully_connected(w1, 16, biases_initializer=None, activation_fn=tf.nn.relu, scope=\"w/l2\")\n",
        "    out_v = slim.fully_connected(w1, 1, biases_initializer=None, activation_fn=None, scope=\"w/out\")\n",
        "    \n",
        "    #in_action = tf.placeholder(shape=[None,], dtype=tf.int32)\n",
        "    in_action = tf.placeholder(dtype=tf.int32)\n",
        "    \n",
        "    loss_w = -out_v\n",
        "    \n",
        "    #action_onehot = tf.one_hot(in_action, a_size, dtype=tf.int32)\n",
        "    #responsible_action = tf.reduce_sum(out_action * action_onehot, axis=-1)\n",
        "    #loss_theta = -tf.reduce_mean(tf.log(responsible_action))\n",
        "    loss_theta = tf.nn.sparse_softmax_cross_entropy_with_logits(logits=tf.squeeze(out_action), labels=in_action)\n",
        "    \n",
        "    vars_theta = tf.trainable_variables(scope=\"theta\")\n",
        "    vars_w = tf.trainable_variables(scope=\"w\")\n",
        "\n",
        "    grad_theta = tf.gradients(loss_theta, vars_theta)\n",
        "    grad_w = tf.gradients(loss_w, vars_w)\n",
        "\n",
        "    in_grad_theta = []\n",
        "    in_grad_w = []\n",
        "    for idx, grad in enumerate(vars_theta):\n",
        "        placeholder = tf.placeholder(tf.float32, name=str(idx)+'_holder')\n",
        "        in_grad_theta.append(placeholder)\n",
        "    for idx, grad in enumerate(vars_w):\n",
        "        placeholder = tf.placeholder(tf.float32, name=str(idx)+'_holder')\n",
        "        in_grad_w.append(placeholder)\n",
        "\n",
        "    opt_theta = tf.train.AdamOptimizer(learning_rate=alpha_theta)\n",
        "    opt_w = tf.train.AdamOptimizer(learning_rate=alpha_w)\n",
        "\n",
        "    update_theta = opt_theta.apply_gradients(zip(in_grad_theta, vars_theta))\n",
        "    update_w = opt_w.apply_gradients(zip(in_grad_w, vars_w))\n",
        "\n",
        "    \n",
        "# records for ploting\n",
        "steps = []\n",
        "losses = []\n",
        "\n",
        "# train\n",
        "with tf.Session(graph=graph) as sess:\n",
        "    tf.global_variables_initializer().run()\n",
        "    \n",
        "    # gradients buffer for batch update\n",
        "    g_t_buf = sess.run(tf.trainable_variables(scope=\"theta\"))\n",
        "    for idx,grad in enumerate(g_t_buf):\n",
        "        g_t_buf[idx] = grad * 0\n",
        "    g_w_buf = sess.run(tf.trainable_variables(scope=\"w\"))\n",
        "    for idx,grad in enumerate(g_w_buf):\n",
        "        g_w_buf[idx] = grad * 0\n",
        "    \n",
        "    total_step = 0\n",
        "    \n",
        "    for epoch in tqdm(range(episodes)):\n",
        "\n",
        "        # start a new epoch\n",
        "        s = cp.reset()\n",
        "\n",
        "        # empty list for records\n",
        "        states = []\n",
        "        actions = []\n",
        "        rewards = []\n",
        "        \n",
        "        # init variables\n",
        "        i = 1\n",
        "        step = 0\n",
        "        done = False\n",
        "\n",
        "        # generate a episode\n",
        "        while not done:\n",
        "            \n",
        "            state = s.reshape([1, -1])\n",
        "            \n",
        "            # choose action\n",
        "            pi_s = sess.run([out_action], feed_dict={in_state: state})\n",
        "            #if np.random.rand() > epsilon / (epoch+1):\n",
        "            #    a = np.argmax(pi_s[0][0])\n",
        "            #else:\n",
        "            #    a = np.random.choice(2)\n",
        "            a = np.random.choice(a_size, p=pi_s[0][0])\n",
        "\n",
        "            # execute action, move to next state\n",
        "            s1, r, done, _ = cp.step(a)\n",
        "            \n",
        "            #r = -np.log(1-step/200)\n",
        "            #r = np.exp(step/200)/math.e\n",
        "            r = -1 if done else 0\n",
        "            #r = 1 if step >= 199 else r\n",
        "            \n",
        "            state1 = s1.reshape([1, -1])\n",
        "            \n",
        "            # update network\n",
        "            v = sess.run(out_v, feed_dict={in_state: state})\n",
        "            if not done:\n",
        "                v1 = sess.run(out_v, feed_dict={in_state: state1})\n",
        "                delta = r + gamma*v1[0,0] - v[0,0]\n",
        "            else:\n",
        "                delta = r - v[0,0]\n",
        "                \n",
        "            g_t, g_w = sess.run([grad_theta, grad_w],\n",
        "                                    feed_dict={in_state: state, in_action: a})\n",
        "\n",
        "            for idx,grad in enumerate(g_t):\n",
        "                g_t_buf[idx] += grad*i*delta\n",
        "            for idx,grad in enumerate(g_w):\n",
        "                g_w_buf[idx] += grad*i*delta\n",
        "\n",
        "            if total_step % batch_size == 0 and total_step != 0:\n",
        "                _= sess.run([update_theta], feed_dict=dict(zip(in_grad_theta, g_t_buf)))\n",
        "                _= sess.run([update_w], feed_dict=dict(zip(in_grad_w, g_w_buf)))\n",
        "\n",
        "                #g_t_buf = np.zeros_like(g_t_buf)\n",
        "                #g_w_buf = np.zeros_like(g_w_buf)\n",
        "\n",
        "            i *= gamma\n",
        "            step += 1\n",
        "            total_step += 1\n",
        "            s = s1\n",
        "        \n",
        "        # steps\n",
        "        steps.append(step)\n",
        "        \n",
        "    # sample display\n",
        "    '''\n",
        "    frames = []\n",
        "    done = False\n",
        "    \n",
        "    s = cp.reset()\n",
        "    frames.append(cp.draw())\n",
        "\n",
        "    while not done:\n",
        "\n",
        "        state = s.reshape([1, -1])\n",
        "\n",
        "        # choose action\n",
        "        pi_s = sess.run([out_action], feed_dict={in_state: state})\n",
        "        a = np.random.choice(a_size, p=pi_s[0][0])\n",
        "\n",
        "        # execute action, move to next state\n",
        "        s1, r, done, _ = cp.step(a)\n",
        "\n",
        "        # draw\n",
        "        frames.append(cp.draw())\n",
        "\n",
        "        s = s1\n",
        "\n",
        "    display_frames(frames)\n",
        "    '''\n",
        "\n",
        "\n",
        "# plot\n",
        "plt.plot(steps)\n",
        "#plt.plot(np.mean(np.array(steps).reshape(-1, 25), axis=1))\n",
        "plt.show()\n",
        "\n",
        "#vdisplay.clear_output(wait=True)\n",
        "cp.env.close()"
      ],
      "execution_count": 0,
      "outputs": [
        {
          "output_type": "stream",
          "text": [
            "100%|██████████| 200/200 [00:48<00:00,  4.30it/s]\n"
          ],
          "name": "stderr"
        },
        {
          "output_type": "display_data",
          "data": {
            "image/png": "[encoded data removed]",
            "text/plain": [
              "<Figure size 432x288 with 1 Axes>"
            ]
          },
          "metadata": {
            "tags": []
          }
        }
      ]
    },
    {
      "metadata": {
        "id": "ObqjDqn5rD3V",
        "colab_type": "code",
        "colab": {}
      },
      "cell_type": "code",
      "source": [
        "!apt-get install -y xvfb python-opengl > /dev/null 2>&1"
      ],
      "execution_count": 0,
      "outputs": []
    },
    {
      "metadata": {
        "id": "ceNUAHGyH4GK",
        "colab_type": "code",
        "colab": {}
      },
      "cell_type": "code",
      "source": [
        "!pip install gym pyvirtualdisplay > /dev/null 2>&1"
      ],
      "execution_count": 0,
      "outputs": []
    },
    {
      "metadata": {
        "id": "bOTmp7FUH-u-",
        "colab_type": "code",
        "colab": {}
      },
      "cell_type": "code",
      "source": [
        ""
      ],
      "execution_count": 0,
      "outputs": []
    }
  ]
}